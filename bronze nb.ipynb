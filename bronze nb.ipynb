{
 "cells": [
  {
   "cell_type": "code",
   "execution_count": 0,
   "metadata": {
    "application/vnd.databricks.v1+cell": {
     "cellMetadata": {
      "byteLimit": 2048000,
      "rowLimit": 10000
     },
     "inputWidgets": {},
     "nuid": "05ba3e79-75f3-49b0-a1cf-d65af6a6dbe3",
     "showTitle": false,
     "tableResultSettingsMap": {},
     "title": ""
    }
   },
   "outputs": [],
   "source": [
    "tiers = [\"bronze\",\"silver\",\"gold\"]\n",
    "adls_paths = {}\n",
    "\n",
    "for x in tiers:\n",
    "    adls_paths[x] = f\"abfss://{x}@abychen.dfs.core.windows.net/\"\n",
    "    # container paths are stored in the dictionary\n",
    "bronze_adls = adls_paths[\"bronze\"]\n",
    "silver_adls = adls_paths[\"silver\"]\n",
    "gold_adls = adls_paths[\"gold\"]\n"
   ]
  },
  {
   "cell_type": "code",
   "execution_count": 0,
   "metadata": {
    "application/vnd.databricks.v1+cell": {
     "cellMetadata": {
      "byteLimit": 2048000,
      "rowLimit": 10000
     },
     "inputWidgets": {},
     "nuid": "912af955-e2c0-41f6-907c-71def84614b5",
     "showTitle": false,
     "tableResultSettingsMap": {},
     "title": ""
    }
   },
   "outputs": [],
   "source": [
    "import requests\n",
    "# for API requests\n",
    "import json\n",
    "# for converting json to python objects\n",
    "from datetime import date, timedelta"
   ]
  },
  {
   "cell_type": "code",
   "execution_count": 0,
   "metadata": {
    "application/vnd.databricks.v1+cell": {
     "cellMetadata": {
      "byteLimit": 2048000,
      "rowLimit": 10000
     },
     "inputWidgets": {},
     "nuid": "ec6d8264-b3dd-4788-bb4b-2bc968b17576",
     "showTitle": false,
     "tableResultSettingsMap": {},
     "title": ""
    }
   },
   "outputs": [],
   "source": [
    "start_date = date.today() - timedelta(1)\n",
    "end_date = date.today()"
   ]
  },
  {
   "cell_type": "code",
   "execution_count": 0,
   "metadata": {
    "application/vnd.databricks.v1+cell": {
     "cellMetadata": {
      "byteLimit": 2048000,
      "rowLimit": 10000
     },
     "inputWidgets": {},
     "nuid": "508dcab4-c567-48cd-819b-2ef061c53ca6",
     "showTitle": false,
     "tableResultSettingsMap": {},
     "title": ""
    }
   },
   "outputs": [],
   "source": [
    "url = f\"https://earthquake.usgs.gov/fdsnws/event/1/query?format=geojson&starttime={start_date}&endtime={end_date}\"\n",
    "# assigned start and end dates to url for fetching yesterdays data\n",
    "\n",
    "try:\n",
    "    response = requests.get(url)\n",
    "    # getting earthquake data for yesterday using API\n",
    "    response.raise_for_status()\n",
    "    # checking if response is successful\n",
    "\n",
    "    data = response.json().get(\"features\",[])\n",
    "    # getting the features from the response in GeoJSON format\n",
    "\n",
    "    if not data:\n",
    "        print(\"No data received\")\n",
    "    else:\n",
    "        file_path = f\"{bronze_adls}{start_date}_earthquake_data.json\"\n",
    "        json_data = json.dumps(data, indent=4)\n",
    "        # converting geojson data to json\n",
    "\n",
    "        dbutils.fs.put(file_path, json_data, overwrite=True)\n",
    "        #writing to adls\n",
    "        print(f\"Data saved to {file_path}\")\n",
    "\n",
    "except requests.exceptions.RequestException as e:\n",
    "    print(f\"Request failed: {e}\")\n",
    "\n"
   ]
  },
  {
   "cell_type": "code",
   "execution_count": 0,
   "metadata": {
    "application/vnd.databricks.v1+cell": {
     "cellMetadata": {
      "byteLimit": 2048000,
      "rowLimit": 10000
     },
     "inputWidgets": {},
     "nuid": "c44f6143-7cb0-473c-b118-c2ae7d769631",
     "showTitle": false,
     "tableResultSettingsMap": {},
     "title": ""
    }
   },
   "outputs": [],
   "source": [
    "output_data = {\n",
    "    \"start_date\":start_date.isoformat(), # isoformat() converts date to string for sending the output data\n",
    "    \"end_date\": end_date.isoformat(),\n",
    "    \"bronze_adls\":file_path,\n",
    "    \"silver_adls\":silver_adls,\n",
    "    \"gold_adls\":gold_adls\n",
    "}\n",
    "\n",
    "dbutils.jobs.taskValues.set(key=\"bronze_output\", value=output_data)"
   ]
  }
 ],
 "metadata": {
  "application/vnd.databricks.v1+notebook": {
   "computePreferences": null,
   "dashboards": [],
   "environmentMetadata": {
    "base_environment": "",
    "environment_version": "2"
   },
   "inputWidgetPreferences": null,
   "language": "python",
   "notebookMetadata": {
    "pythonIndentUnit": 4
   },
   "notebookName": "bronze nb",
   "widgets": {}
  },
  "language_info": {
   "name": "python"
  }
 },
 "nbformat": 4,
 "nbformat_minor": 0
}
